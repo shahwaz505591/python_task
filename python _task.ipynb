{
 "cells": [
  {
   "cell_type": "markdown",
   "id": "fec1eec0-aa55-4bad-84ca-23d23eeba470",
   "metadata": {},
   "source": [
    "Q1. Create a function which will take a list as an argument and return the product of all the numbers\n",
    "after creating a flat list.\n",
    "Use the below-given list as an argument for your function.\n",
    "list1 = [1,2,3,4, [44,55,66, True], False, (34,56,78,89,34), {1,2,3,3,2,1}, {1:34, \"key2\": [55, 67, 78, 89], 4: (45,\n",
    "22, 61, 34)}, [56, 'data science'], 'Machine Learning']\n",
    "\n",
    "Ans: def multiply_list(lst):\n",
    "    flat_list = []\n",
    "    for item in lst:\n",
    "        if type(item) == list or type(item) == tuple or type(item) == set:\n",
    "            for i in item:\n",
    "                if type(i) == int or type(i) == float:\n",
    "                    flat_list.append(i)\n",
    "        elif type(item) == dict:\n",
    "            for k,v in item.items():\n",
    "                if type(k) == int or type(k) == float:\n",
    "                    flat_list.append(k)\n",
    "                if type(v) == int or type(v) == float:\n",
    "                    flat_list.append(v)\n",
    "        elif type(item) == int or type(item) == float:\n",
    "            flat_list.append(item)\n",
    "    product = 1\n",
    "    for i in flat_list:\n",
    "        product *= i\n",
    "    return product\n",
    "\n",
    "list1 = [1,2,3,4, [44,55,66, True], False, (34,56,78,89,34), {1,2,3,3,2,1}, {1:34, \"key2\": [55, 67, 78, 89], 4: (45,\n",
    "22, 61, 34)}, [56, 'data science'], 'Machine Learning']\n",
    "print(multiply_list(list1))\n",
    "\n",
    "\n",
    "this programme give output as a 0 because it present boolean 'False' that means 0 so if we multiply a number by o it will be zero.\n",
    "\n",
    "\n"
   ]
  },
  {
   "cell_type": "markdown",
   "id": "ea73b894-1457-47e1-8bbb-36691eda0588",
   "metadata": {},
   "source": [
    "Q2. Write a python program for encrypting a message sent to you by your friend. The logic of encryption\n",
    "should be such that, for a the output should be z. For b, the output should be y. For c, the output should\n",
    "be x respectively. Also, the whitespace should be replaced with a dollar sign. Keep the punctuation\n",
    "marks unchanged.\n",
    "Input Sentence: I want to become a Data Scientist.\n",
    "\n",
    "Ans:\n",
    "def encrypt_message(message):\n",
    "    encrypted_message = \"\"\n",
    "    for char in message:\n",
    "        if char.isalpha():\n",
    "            encrypted_message += chr(219 - ord(char))\n",
    "        elif char == \" \":\n",
    "            encrypted_message += \"$\"\n",
    "        else:\n",
    "            encrypted_message += char\n",
    "    return encrypted_message\n",
    "\n",
    "input_sentence = \"I want to become a Data Scientist.\"\n",
    "print(encrypt_message(input_sentence))\n",
    "  "
   ]
  }
 ],
 "metadata": {
  "kernelspec": {
   "display_name": "Python 3 (ipykernel)",
   "language": "python",
   "name": "python3"
  },
  "language_info": {
   "codemirror_mode": {
    "name": "ipython",
    "version": 3
   },
   "file_extension": ".py",
   "mimetype": "text/x-python",
   "name": "python",
   "nbconvert_exporter": "python",
   "pygments_lexer": "ipython3",
   "version": "3.10.8"
  }
 },
 "nbformat": 4,
 "nbformat_minor": 5
}
